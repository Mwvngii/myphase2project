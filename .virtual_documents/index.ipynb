














# Import relevant libraries
import pandas as pd
import numpy as np
import scipy.stats as stats
import matplotlib.pyplot as plt
import seaborn as sns
import sqlite3





# Loading im.db database data
path = "Data/im.db"
conn = sqlite3.connect(path)


# Querying in the relevant tables to be used
movie_basics = pd.read_sql_query("SELECT * FROM movie_basics", conn)
movie_ratings = pd.read_sql_query("SELECT * FROM movie_ratings", conn)


# Viewing the data in our tables
movie_basics


movie_ratings





movie_basics.info()


movie_ratings.info()





# Loading Box office mojo data.
bom_df = pd.read_csv("Data/bom.movie_gross.csv")

# Viewing contents
bom_df





bom_df.describe()


bom_df.info()





# Merging tables
movies = movie_basics.merge(movie_ratings, how="inner", left_on="movie_id", right_on="movie_id")
movies


# Reviewing relevant information in our merged dataframe
movies.info()





# Finding missing values in columns in movies
missing_vals_in_movies = movies.isnull().sum()
missing_vals_in_movies


# Dropping null values in the genre column
movies.dropna(subset=['genres'], inplace = True)

# Filling mssing values in runtime_minutes column with median values
movies['runtime_minutes'] = movies['runtime_minutes'].fillna(movies['runtime_minutes'].median())

# Checking cleaned data
movies.isnull().sum()


# Finding missing values in bom_df
missing_vals_in_bom = bom_df.isnull().sum()
missing_vals_in_bom


# Dropping null values1
bom_df.dropna(subset=['studio', 'domestic_gross', 'foreign_gross'], inplace = True)

# Inspecting cleaned data 
bom_df.isnull().sum()


# Viewing dataset table
bom_df


# Renaming some of the movie columns
movies.rename(columns={'primary_title': 'title', 'genres': 'genre', 'averagerating': 'average_rating', 'numvotes': 'votes'}, inplace = True)
movies





# Checking for duplicates(if any)
print(bom_df.duplicated().sum())
print(movies.duplicated().sum())





# Reviewing data types in bom_df columns
bom_df.info()


# Handling foreign_gross data inconsistency(str to float)
bom_df['foreign_gross'] = pd.to_numeric(bom_df['foreign_gross'], errors = 'coerce')
bom_df['foreign_gross'] = bom_df['foreign_gross'].astype(float)
bom_df.info()


# Checking for presence of missing values
bom_df.isnull().sum()


# Filling in the missing values with median
bom_df['foreign_gross'] = bom_df['foreign_gross'].fillna(bom_df['foreign_gross'].median())
bom_df.isnull().sum()


# Checking for mixed data types in movie columns
movies.info()


# Merging bom_df with movies and checking for the first 5 rows
combined_df = bom_df.merge(movies, on='title', how='inner')
combined_df.head()





# Creating a Function to retain only the first genre name 
if 'genre' in combined_df.columns:
    combined_df['genre'] = combined_df['genre'].apply(lambda x: x.split(',')[0])
# Viewing the new genre column
combined_df['genre']





combined_df


# Aggregating averages of domestic and foreign gross by genre
genre_revenue = combined_df.groupby('genre').agg({'domestic_gross': 'mean',
                                                  'foreign_gross': 'mean'}).reset_index()
genre_revenue


# Creating a bar plot of average domestic gross vs genre
plt.figure(figsize=(14,8))
plt.subplot(1,2,1)
sns.barplot(x='genre', y='domestic_gross', data=genre_revenue, palette='viridis')
plt.xticks(rotation=75)
plt.ylabel('Domestic Gross($)')
plt.xlabel('Genre')
plt.title('Average Domestic Gross Revenue by Genres in Dollars')

# Creating a bar plot of average foreign gross vs genre           
plt.subplot(1,2,2)
sns.barplot(x='genre', y='foreign_gross', data=genre_revenue)
plt.title('Average Foreign Gross Revenue by Genre in Dollars')
plt.xticks(rotation=75)
plt.ylabel('Foreign Gross($)')
plt.xlabel('Genre')
plt.show()


top_domestic_genre = genre_revenue.sort_values(by='domestic_gross', ascending=False).iloc[0]['genre']
top_foreign_genre = genre_revenue.sort_values(by='foreign_gross', ascending=False).iloc[0]['genre']
print(f"The genre with the highest average domestic revenue is {top_domestic_genre}.")
print(f"The genre with the highest average foreign revenue is {top_foreign_genre}.")








# Aggregating total gross by studio
studio_revenue = combined_df.groupby('studio').agg({'domestic_gross': 'sum',
                                                  'foreign_gross': 'sum'}).reset_index()
# Create a total gross column
studio_revenue['total_gross'] = studio_revenue['domestic_gross'] + studio_revenue['foreign_gross']
studio_revenue = studio_revenue.sort_values(by= 'total_gross', ascending=False).reset_index().head(10)
studio_revenue


# Visualizing using pie chart
plt.figure(figsize=(12,8))
plt.pie(studio_revenue['total_gross'],labels=studio_revenue['studio'], autopct='%1.1f%%',colors=sns.color_palette("Set2"), startangle=140)
plt.xticks(rotation=60)
plt.title('Total Gross Revenue by Studio in perecentage')
plt.show()








# Aggregating average annual gross by the year
yearly_gross_revenue = combined_df.groupby('year').agg({'domestic_gross': 'mean',
                                                        'foreign_gross': 'mean'}).reset_index()
yearly_gross_revenue['total_gross'] = yearly_gross_revenue['domestic_gross'] + yearly_gross_revenue['foreign_gross']
yearly_gross_revenue = yearly_gross_revenue.sort_values(by= 'total_gross', ascending=False).reset_index()

# Plotting lineplot
plt.figure(figsize=(14,8))
sns.lineplot(x='year', y='total_gross', data=yearly_gross_revenue, marker='o', color='red')
plt.title('Average Annual Gross Revenue of Movies in Dollars')
plt.xlabel('Year')
plt.ylabel('Total Gross Revenue($)')
plt.show()








# Splitting to action and non action movie genres
action_movies = combined_df[combined_df['genre'].str.contains('Action')]
non_action_movies = combined_df[~combined_df['genre'].str.contains('Action')]

# Performing an independent t-test to compare domestic gross revenues between action and non action movies
t_stat, p_value = stats.ttest_ind(action_movies['domestic_gross'],
                                  non_action_movies['domestic_gross'],
                                  nan_policy='omit')
print(f"T-statistic: {t_stat}, P-value: {p_value}")








# Grouping average movie ratings by studio
grouped_data = [group['average_rating'] for name, group in combined_df.groupby('studio')]


# Performing ANOVA Test to compare average ratings among different studios
anova_results = stats.f_oneway(*grouped_data)
print(f"ANOVA F-statistic: {anova_results.statistic}, p-value: {anova_results.pvalue}")








# Getting the median movie duration
median_runtime = combined_df['runtime_minutes'].median()

# Categorizing movies into short and long movies( SHORT MOVIES ARE BELOW MEDIAN RUNTIME AND VICE VERSA FOR LONG MOVIES)
short_movies = combined_df[combined_df['runtime_minutes'] <= median_runtime]
long_movies = combined_df[combined_df['runtime_minutes'] > median_runtime]


t_stat_domestic, p_value_domestic = stats.ttest_ind(short_movies['domestic_gross'], long_movies['domestic_gross'], nan_policy='omit')
t_stat_foreign, p_value_foreign = stats.ttest_ind(short_movies['foreign_gross'], long_movies['foreign_gross'], nan_policy='omit')
print(f"T-statistic(Domestic Gross Revenue) for movie duration: {t_stat_domestic}, P-value: {p_value_domestic}")
print(f"T-statistic(Foreign Gross Revenue) for movie duration: {t_stat_foreign}, P-value: {p_value_foreign}")






