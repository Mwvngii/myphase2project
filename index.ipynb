{
 "cells": [
  {
   "cell_type": "markdown",
   "id": "0272f5e4-9a35-4fac-bec3-e6e5cb052962",
   "metadata": {},
   "source": [
    "# PHASE 2 PROJECT"
   ]
  },
  {
   "cell_type": "markdown",
   "id": "ffdb15de-05bf-41e8-8789-071fca09366b",
   "metadata": {},
   "source": [
    "# Project Overview\n",
    "\n",
    "The goal of this project is to generate insights that will guide the head of our new movie studio company in determining which films to create for viewers. We shall use exploratory data analysis(EDA) on our movie related datasets and analyze trends in the data so as to provide actionable insights and recommendations to ensure success in our new company."
   ]
  },
  {
   "cell_type": "markdown",
   "id": "bb733673-911a-4a41-9848-7014f560b71e",
   "metadata": {},
   "source": [
    "## Business Understanding\n",
    "Our company is venturing into the film industry by creating a new movie studio and needs to make informed decisions on the types of films to produce. This is based on which types of films perform best at the box office. Some of the key business questions to ask are:\n"
   ]
  },
  {
   "cell_type": "markdown",
   "id": "74abce24-6a1f-4399-8876-faeaf63746e1",
   "metadata": {},
   "source": [
    "## Data Understanding\n",
    "### Data Source and Description\n",
    "For this project, we shall be working with data from multiple sources including a relational database `IM.DB` and a csv file containing data on revevenue generated from various box office movies `bom.movie_gross.csv`."
   ]
  },
  {
   "cell_type": "markdown",
   "id": "1ce1eac0-0aec-40be-9bd1-be066e3d4467",
   "metadata": {},
   "source": [
    "## Data Preparation\n",
    "We shall proceed on to working with the data by importing the libraries needed and loading our data."
   ]
  },
  {
   "cell_type": "code",
   "execution_count": 7,
   "id": "2def511e-019a-40ae-97b1-97d0b06dcc4c",
   "metadata": {},
   "outputs": [],
   "source": [
    "# Import relevant libraries\n",
    "import pandas as pd\n",
    "import numpy as np\n",
    "import matplotlib.pyplot as plt\n",
    "import seaborn as sns\n",
    "import sqlite3"
   ]
  },
  {
   "cell_type": "code",
   "execution_count": 9,
   "id": "edc9076b-f215-4dc0-81d0-ebf3409890d6",
   "metadata": {},
   "outputs": [
    {
     "ename": "OperationalError",
     "evalue": "unable to open database file",
     "output_type": "error",
     "traceback": [
      "\u001b[1;31m---------------------------------------------------------------------------\u001b[0m",
      "\u001b[1;31mOperationalError\u001b[0m                          Traceback (most recent call last)",
      "Cell \u001b[1;32mIn[9], line 3\u001b[0m\n\u001b[0;32m      1\u001b[0m \u001b[38;5;66;03m# Loading data\u001b[39;00m\n\u001b[0;32m      2\u001b[0m path \u001b[38;5;241m=\u001b[39m \u001b[38;5;124m\"\u001b[39m\u001b[38;5;124mData/im.db\u001b[39m\u001b[38;5;124m\"\u001b[39m\n\u001b[1;32m----> 3\u001b[0m conn \u001b[38;5;241m=\u001b[39m sqlite3\u001b[38;5;241m.\u001b[39mconnect(path)\n",
      "\u001b[1;31mOperationalError\u001b[0m: unable to open database file"
     ]
    }
   ],
   "source": [
    "# Loading data\n",
    "path = \"Data/im.db\"\n",
    "conn = sqlite3.connect(path)"
   ]
  },
  {
   "cell_type": "code",
   "execution_count": null,
   "id": "17e0b67f-44bc-4603-a126-d6a0e3cc5c9b",
   "metadata": {},
   "outputs": [],
   "source": []
  },
  {
   "cell_type": "code",
   "execution_count": null,
   "id": "a21c9a54-83e1-4c30-985d-eb4c760d28ea",
   "metadata": {},
   "outputs": [],
   "source": []
  }
 ],
 "metadata": {
  "kernelspec": {
   "display_name": "Python 3 (ipykernel)",
   "language": "python",
   "name": "python3"
  },
  "language_info": {
   "codemirror_mode": {
    "name": "ipython",
    "version": 3
   },
   "file_extension": ".py",
   "mimetype": "text/x-python",
   "name": "python",
   "nbconvert_exporter": "python",
   "pygments_lexer": "ipython3",
   "version": "3.11.7"
  }
 },
 "nbformat": 4,
 "nbformat_minor": 5
}
